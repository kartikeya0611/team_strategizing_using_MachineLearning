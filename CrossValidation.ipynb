{
 "cells": [
  {
   "cell_type": "markdown",
   "metadata": {},
   "source": [
    "# SVM with K-folds cross validation"
   ]
  },
  {
   "cell_type": "code",
   "execution_count": 7,
   "metadata": {},
   "outputs": [],
   "source": [
    "import numpy as np\n",
    "import matplotlib.pyplot as plt\n",
    "import pandas as pd\n",
    "dataset=pd.read_csv('C:\\\\Users\\\\karti\\\\Desktop\\\\ML_Fifa\\\\final_FIFA_stats.csv')\n",
    "\n",
    "dataset = dataset.dropna(axis = 0, how ='any')\n",
    "X=dataset.iloc[:,:-2].values                                                   \n",
    "Y=dataset.iloc[:,30].values\n",
    "\n",
    "from sklearn.model_selection import train_test_split\n",
    "X_train,X_test,Y_train,Y_test=train_test_split(X,Y,test_size=0.20,random_state=0)\n",
    "from sklearn.preprocessing import StandardScaler\n",
    "sc_X = StandardScaler()\n",
    "X_train=sc_X.fit_transform(X_train)                                             #fit transform always for traing set\n",
    "X_test=sc_X.transform(X_test)\n",
    "\n",
    "from sklearn.svm import SVC\n",
    "classifier_svm=SVC(kernel='linear',random_state=0)                                  #linear kernel used here\n",
    "classifier_svm.fit(X_train,Y_train)\n",
    "Y_pred=classifier_svm.predict(X_test)\n"
   ]
  },
  {
   "cell_type": "markdown",
   "metadata": {},
   "source": [
    "**Accuracy of model**"
   ]
  },
  {
   "cell_type": "code",
   "execution_count": 8,
   "metadata": {},
   "outputs": [
    {
     "name": "stdout",
     "output_type": "stream",
     "text": [
      "Accuracy Score : 0.8715625\n"
     ]
    }
   ],
   "source": [
    "from sklearn.metrics import accuracy_score \n",
    "print ('Accuracy Score :',accuracy_score(Y_test,Y_pred))"
   ]
  },
  {
   "cell_type": "markdown",
   "metadata": {},
   "source": [
    "**Accuracy of model with K-Folds**"
   ]
  },
  {
   "cell_type": "code",
   "execution_count": 9,
   "metadata": {},
   "outputs": [
    {
     "name": "stdout",
     "output_type": "stream",
     "text": [
      "Mean accuracies : 0.8797289752736515\n",
      "Standard Deviation of Accuracies : 0.008528167411073413\n"
     ]
    }
   ],
   "source": [
    "from sklearn.model_selection import cross_val_score\n",
    "accuraciers=cross_val_score(estimator=classifier_svm,X=X_train,y=Y_train,cv=10) #cv=number of folds n_jobs=-1 to use all cpu\n",
    "print(\"Mean accuracies :\",accuraciers.mean())\n",
    "print(\"Standard Deviation of Accuracies :\",accuraciers.std())"
   ]
  },
  {
   "cell_type": "code",
   "execution_count": null,
   "metadata": {},
   "outputs": [],
   "source": []
  }
 ],
 "metadata": {
  "kernelspec": {
   "display_name": "Python 3",
   "language": "python",
   "name": "python3"
  },
  "language_info": {
   "codemirror_mode": {
    "name": "ipython",
    "version": 3
   },
   "file_extension": ".py",
   "mimetype": "text/x-python",
   "name": "python",
   "nbconvert_exporter": "python",
   "pygments_lexer": "ipython3",
   "version": "3.7.7"
  }
 },
 "nbformat": 4,
 "nbformat_minor": 4
}
